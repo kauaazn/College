{
 "cells": [
  {
   "cell_type": "code",
   "execution_count": 3,
   "id": "7f93a2c0",
   "metadata": {},
   "outputs": [],
   "source": [
    "#Kauã Antônio Reis\n",
    "import numpy as np"
   ]
  },
  {
   "cell_type": "code",
   "execution_count": 7,
   "id": "7abbab72",
   "metadata": {},
   "outputs": [
    {
     "data": {
      "text/plain": [
       "array([[1., 1., 1.],\n",
       "       [1., 1., 1.],\n",
       "       [1., 1., 1.],\n",
       "       [1., 1., 1.]])"
      ]
     },
     "execution_count": 7,
     "metadata": {},
     "output_type": "execute_result"
    }
   ],
   "source": [
    "#Question 1\n",
    "np.ones(12).reshape(4,3)"
   ]
  },
  {
   "cell_type": "code",
   "execution_count": 6,
   "id": "a9ca1d85",
   "metadata": {},
   "outputs": [
    {
     "name": "stdout",
     "output_type": "stream",
     "text": [
      "Matriz: [ 0.18744397 -0.550635    0.67903706  1.9464551  -0.95447034  0.09118007\n",
      " -0.18941983 -1.03437288  2.40052414  1.26427127 -1.94090903 -1.27236506\n",
      "  0.63301896  1.33694159 -1.30313935 -1.70545798  0.78817625 -0.70282183\n",
      " -0.82393521 -2.369717  ]\n",
      "Média: -0.17600975555422554\n",
      "Desvio: 1.2834541412637985\n",
      "Soma: -3.5201951110845107\n"
     ]
    }
   ],
   "source": [
    "#Question 2\n",
    "matriz = np.random.randn(20)\n",
    "media = np.mean(matriz)\n",
    "desvio = np.std(matriz)\n",
    "soma = np.sum(matriz)\n",
    "print(\"Matriz:\", matriz)\n",
    "print(\"Média:\", media)\n",
    "print(\"Desvio:\", desvio)\n",
    "print(\"Soma:\", soma)\n",
    "\n",
    "\n",
    "\n"
   ]
  },
  {
   "cell_type": "code",
   "execution_count": 42,
   "id": "2f3652f0",
   "metadata": {},
   "outputs": [
    {
     "name": "stdout",
     "output_type": "stream",
     "text": [
      "[ 7  9 11 13 15]\n",
      "[-5 -5 -5 -5 -5]\n",
      "[ 6 14 24 36 50]\n"
     ]
    }
   ],
   "source": [
    "#Question 3\n",
    "array1 = np.arange(1,6)\n",
    "array2 = np.arange(6,11) \n",
    "soma = array1 + array2\n",
    "subtração = array1 - array2\n",
    "multiplicaçao = array1 * array2\n",
    "print(soma)\n",
    "print(subtração)\n",
    "print(multiplicaçao)\n",
    "\n"
   ]
  },
  {
   "cell_type": "code",
   "execution_count": null,
   "id": "3ce47930",
   "metadata": {},
   "outputs": [
    {
     "name": "stdout",
     "output_type": "stream",
     "text": [
      "[[11 22 33]\n",
      " [14 25 36]]\n"
     ]
    }
   ],
   "source": [
    "#Question 4\n",
    "#O broadcasting no NumPy é um mecanismo que permite realizar operações aritméticas entre arrays de formas e tamanhos diferentes. \n",
    "#Quando duas matrizes são usadas em uma operação, \n",
    "#o NumPy compara suas formas elemento por elemento, começando pela última dimensão.\n",
    "a = np.array([[1, 2, 3],\n",
    "              [4, 5, 6]])\n",
    "b = np.array([10, 20, 30])\n",
    "\n",
    "# b é expandido (broadcasted) para cada linha de a\n",
    "resultado = a + b\n",
    "resultado2 = a + b[:, None]\n",
    "print(resultado)\n",
    "print(resultado2)"
   ]
  },
  {
   "cell_type": "code",
   "execution_count": null,
   "id": "2affd1dd",
   "metadata": {},
   "outputs": [
    {
     "name": "stdout",
     "output_type": "stream",
     "text": [
      "[30 60 90]\n",
      "90\n",
      "[[40 50]\n",
      " [70 80]]\n"
     ]
    }
   ],
   "source": [
    "#Question 5\n",
    "A = np.array([[10, 20, 30],\n",
    "              [40, 50, 60],\n",
    "              [70, 80, 90]])\n",
    "\n",
    "# a)\n",
    "third_column = A[:,2]\n",
    "\n",
    "# b)\n",
    "bottom_right_element = A[2,2]\n",
    "\n",
    "# c) \n",
    "B = A[1:,0:2]\n",
    "\n",
    "print(third_column)\n",
    "print(bottom_right_element)\n",
    "print(B)\n"
   ]
  },
  {
   "cell_type": "code",
   "execution_count": 17,
   "id": "2a28d81a",
   "metadata": {},
   "outputs": [
    {
     "name": "stdout",
     "output_type": "stream",
     "text": [
      "[[ 4  6]\n",
      " [10 12]]\n",
      "False\n"
     ]
    }
   ],
   "source": [
    "#Question 6\n",
    "A = np.array([[1, 2],\n",
    "              [3, 4]])\n",
    "\n",
    "B = np.array([[2, 0],\n",
    "              [1, 3]])\n",
    "\n",
    "# a)\n",
    "AB = np.dot(A, B)\n",
    "\n",
    "# (b) \n",
    "BA = np.dot(B, A)\n",
    "\n",
    "# AB = BA\n",
    "equal = np.array_equal(AB, BA)\n",
    "\n",
    "print(AB)\n",
    "print(equal)"
   ]
  },
  {
   "cell_type": "markdown",
   "id": "3253247f",
   "metadata": {},
   "source": []
  }
 ],
 "metadata": {
  "kernelspec": {
   "display_name": "Python 3",
   "language": "python",
   "name": "python3"
  },
  "language_info": {
   "codemirror_mode": {
    "name": "ipython",
    "version": 3
   },
   "file_extension": ".py",
   "mimetype": "text/x-python",
   "name": "python",
   "nbconvert_exporter": "python",
   "pygments_lexer": "ipython3",
   "version": "3.13.7"
  }
 },
 "nbformat": 4,
 "nbformat_minor": 5
}
