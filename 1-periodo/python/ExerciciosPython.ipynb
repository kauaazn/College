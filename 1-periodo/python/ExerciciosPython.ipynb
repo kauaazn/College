{
 "cells": [
  {
   "cell_type": "code",
   "execution_count": null,
   "id": "159f6980",
   "metadata": {},
   "outputs": [],
   "source": [
    "#1- Descreve o resultado de s\n",
    "import pandas as pd\n",
    "dados = {'A': 5, 'B': 3, 'D': 7}\n",
    "s = pd.Series(dados).reindex(['A','B','C','D'])\n",
    "#O rótulo ’C’ aparece com NaN por não existir no dicionário"
   ]
  },
  {
   "cell_type": "code",
   "execution_count": null,
   "id": "c3b4b9b4",
   "metadata": {},
   "outputs": [],
   "source": [
    "#2- x, y, z em que  X > 0 ou Y < 0 e, ao mesmo tempo, Z não é nulo\n",
    "df[((df['X'] > 0) | (df['Y'] < 0)) & (df['Z'].notna())]"
   ]
  },
  {
   "cell_type": "code",
   "execution_count": null,
   "id": "6cb1afe0",
   "metadata": {},
   "outputs": [],
   "source": [
    "#3- df com colunas Dept e Sal, retornando uma Series indexada por Dept\n",
    "df.groupby('Dept')['Sal'].mean()"
   ]
  },
  {
   "cell_type": "code",
   "execution_count": null,
   "id": "0db51a3c",
   "metadata": {},
   "outputs": [],
   "source": [
    "#4- Fatiamento de df\n",
    "(loc vs iloc)\n",
    "#  loc é inclusivo no limite superior quando fatia por rótulos; \n",
    "# iloc é exclusivo no limite superior."
   ]
  },
  {
   "cell_type": "code",
   "execution_count": null,
   "id": "1a3edf6a",
   "metadata": {},
   "outputs": [],
   "source": [
    "#5- remove a coluna 'bonus' de df e retorna a Series removida\n",
    "df.pop('bonus')"
   ]
  },
  {
   "cell_type": "code",
   "execution_count": null,
   "id": "fc774696",
   "metadata": {},
   "outputs": [],
   "source": [
    "#6- As colunas passam a ser os anos; as linhas, as cidades.\n",
    "df2 = df.set_index(['cidade','ano'])\n",
    "tabela = df2['vendas'].unstack('ano')"
   ]
  },
  {
   "cell_type": "code",
   "execution_count": null,
   "id": "93a0e749",
   "metadata": {},
   "outputs": [],
   "source": [
    "#7\n"
   ]
  }
 ],
 "metadata": {
  "language_info": {
   "name": "python"
  }
 },
 "nbformat": 4,
 "nbformat_minor": 5
}
